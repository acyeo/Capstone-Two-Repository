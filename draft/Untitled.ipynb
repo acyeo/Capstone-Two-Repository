{
 "cells": [
  {
   "cell_type": "code",
   "execution_count": 1,
   "id": "300fb68c-8362-445a-baa2-94bdb56be6a2",
   "metadata": {},
   "outputs": [],
   "source": [
    "import pandas as pd\n",
    "import numpy as np\n",
    "import matplotlib.pyplot as plt\n",
    "import matplotlib.pyplot as plt\n",
    "import seaborn as sns\n",
    "import os\n",
    "from sklearn.decomposition import PCA\n",
    "from sklearn.metrics import mean_squared_error, r2_score \n",
    "from sklearn.model_selection import train_test_split \n",
    "from sklearn import linear_model, preprocessing \n",
    "import statsmodels.api as sm\n",
    "from sklearn.linear_model import LogisticRegression\n",
    "from sklearn.metrics import accuracy_score\n",
    "from sklearn.preprocessing import StandardScaler\n",
    "from scipy.stats import chi2_contingency"
   ]
  },
  {
   "cell_type": "code",
   "execution_count": 2,
   "id": "79ac0504-d7e4-4990-a8d8-bd4ab972480d",
   "metadata": {},
   "outputs": [],
   "source": [
    "first_data = pd.read_csv('diabetes_data_upload.csv')"
   ]
  },
  {
   "cell_type": "code",
   "execution_count": 3,
   "id": "551503af-1725-4f03-96d6-dcaada30fcc9",
   "metadata": {},
   "outputs": [],
   "source": [
    "first_data.rename(columns={'class': 'Diabetes Result'}, inplace=True)"
   ]
  },
  {
   "cell_type": "code",
   "execution_count": 4,
   "id": "aefb0818-39ae-43c4-88e6-0e9c0a2ac618",
   "metadata": {},
   "outputs": [],
   "source": [
    "mappings = {'Male': 0, 'Female': 1, 'Yes': 1, \n",
    "            'No': 0, 'Positive': 1, \n",
    "            'Negative': 0}\n",
    "scored_data = first_data.replace(mappings)"
   ]
  },
  {
   "cell_type": "code",
   "execution_count": 5,
   "id": "43dc81d7-c864-447d-a57c-7874c9973926",
   "metadata": {},
   "outputs": [],
   "source": [
    "X_6 = scored_data[['Polydipsia', 'Polyuria', 'Gender', 'sudden weight loss']]\n",
    "y = scored_data[['Diabetes Result']]\n",
    "X_6 = sm.add_constant(X_6)\n",
    "\n",
    "X_6_train, X_6_test, y_train, y_test = train_test_split(X_6, y, test_size = 0.25, random_state = 42)"
   ]
  },
  {
   "cell_type": "code",
   "execution_count": 6,
   "id": "cc34a449-ae08-4d26-844f-0bd1d65bc8d9",
   "metadata": {},
   "outputs": [
    {
     "name": "stdout",
     "output_type": "stream",
     "text": [
      "Accuracy for the model is  90.76923076923077 %\n"
     ]
    },
    {
     "name": "stderr",
     "output_type": "stream",
     "text": [
      "/Users/alexyeo/Documents/temp/anaconda3/lib/python3.11/site-packages/sklearn/utils/validation.py:1143: DataConversionWarning: A column-vector y was passed when a 1d array was expected. Please change the shape of y to (n_samples, ), for example using ravel().\n",
      "  y = column_or_1d(y, warn=True)\n"
     ]
    }
   ],
   "source": [
    "log_model = LogisticRegression()\n",
    "log_model.fit(X_6_train, y_train)\n",
    "y_preds = log_model.predict(X_6_test)\n",
    "log_accuracy = accuracy_score(y_test, y_preds)\n",
    "print('Accuracy for the model is ', log_accuracy*100 , '%')"
   ]
  },
  {
   "cell_type": "code",
   "execution_count": 7,
   "id": "bd702420-d888-44e9-940b-4bb27b42175b",
   "metadata": {},
   "outputs": [],
   "source": [
    "X_5 = scored_data[['Polydipsia', 'Polyuria', 'Gender']]\n",
    "y = scored_data[['Diabetes Result']]\n",
    "X_5 = sm.add_constant(X_5)\n",
    "\n",
    "X_5_train, X_5_test, y_train, y_test = train_test_split(X_5, y, test_size = 0.25, random_state = 42)"
   ]
  },
  {
   "cell_type": "code",
   "execution_count": 8,
   "id": "132418cb-e541-486e-a53b-59efa585f961",
   "metadata": {},
   "outputs": [
    {
     "name": "stdout",
     "output_type": "stream",
     "text": [
      "Accuracy for the model is  90.76923076923077 %\n"
     ]
    },
    {
     "name": "stderr",
     "output_type": "stream",
     "text": [
      "/Users/alexyeo/Documents/temp/anaconda3/lib/python3.11/site-packages/sklearn/utils/validation.py:1143: DataConversionWarning: A column-vector y was passed when a 1d array was expected. Please change the shape of y to (n_samples, ), for example using ravel().\n",
      "  y = column_or_1d(y, warn=True)\n"
     ]
    }
   ],
   "source": [
    "log_model = LogisticRegression()\n",
    "log_model.fit(X_5_train, y_train)\n",
    "y_preds = log_model.predict(X_5_test)\n",
    "log_accuracy = accuracy_score(y_test, y_preds)\n",
    "print('Accuracy for the model is ', log_accuracy*100 , '%')"
   ]
  },
  {
   "cell_type": "code",
   "execution_count": 33,
   "id": "f7f7aaca-5f51-4bb3-b507-3eb4ab748624",
   "metadata": {},
   "outputs": [
    {
     "name": "stdout",
     "output_type": "stream",
     "text": [
      "          Variable        VIF\n",
      "0            const  18.377432\n",
      "1              Age   1.238053\n",
      "2           Gender   1.272208\n",
      "3         Polyuria   1.789809\n",
      "4       Polydipsia   1.717089\n",
      "5       Polyphagia   1.403710\n",
      "6   Genital thrush   1.201683\n",
      "7     Irritability   1.141966\n",
      "8  delayed healing   1.160240\n",
      "9  partial paresis   1.575844\n"
     ]
    }
   ],
   "source": [
    "from statsmodels.stats.outliers_influence import variance_inflation_factor\n",
    "X_3 = scored_data.drop(['Itching', 'Diabetes Result', 'sudden weight loss', 'weakness', 'visual blurring', 'muscle stiffness', 'Alopecia', 'Obesity'], axis=1)\n",
    "y = scored_data[['Diabetes Result']]\n",
    "y = np.ravel(y.values)\n",
    "X_3 = sm.add_constant(X_3)\n",
    "vif = pd.DataFrame()\n",
    "vif[\"Variable\"] = X_3.columns\n",
    "vif[\"VIF\"] = [variance_inflation_factor(X_3.values, i) for i in range(X_3.shape[1])]\n",
    "print(vif)"
   ]
  },
  {
   "cell_type": "code",
   "execution_count": 34,
   "id": "0a75e35e-fd85-48ab-8ca1-738389a0de11",
   "metadata": {},
   "outputs": [],
   "source": [
    "X_3_train, X_3_test, y_train, y_test = train_test_split(X_3, y, test_size = 0.25, random_state = 42)\n"
   ]
  },
  {
   "cell_type": "code",
   "execution_count": 35,
   "id": "f5d6e994-d1d5-4458-9518-71c7eafea677",
   "metadata": {},
   "outputs": [
    {
     "name": "stdout",
     "output_type": "stream",
     "text": [
      "Accuracy for the model is  93.07692307692308 %\n"
     ]
    }
   ],
   "source": [
    "log_model = LogisticRegression(max_iter=1000)\n",
    "log_model.fit(X_3_train, y_train)\n",
    "y_preds = log_model.predict(X_3_test)\n",
    "log_accuracy = accuracy_score(y_test, y_preds)\n",
    "print('Accuracy for the model is ', log_accuracy*100 , '%')"
   ]
  },
  {
   "cell_type": "code",
   "execution_count": 36,
   "id": "2a3e461b-7447-4278-9a79-591ef1ba1f00",
   "metadata": {},
   "outputs": [
    {
     "name": "stdout",
     "output_type": "stream",
     "text": [
      "Optimization terminated successfully.\n",
      "         Current function value: 0.192246\n",
      "         Iterations 9\n",
      "                           Logit Regression Results                           \n",
      "==============================================================================\n",
      "Dep. Variable:                      y   No. Observations:                  520\n",
      "Model:                          Logit   Df Residuals:                      510\n",
      "Method:                           MLE   Df Model:                            9\n",
      "Date:                Thu, 05 Sep 2024   Pseudo R-squ.:                  0.7115\n",
      "Time:                        09:51:15   Log-Likelihood:                -99.968\n",
      "converged:                       True   LL-Null:                       -346.46\n",
      "Covariance Type:            nonrobust   LLR p-value:                1.818e-100\n",
      "===================================================================================\n",
      "                      coef    std err          z      P>|z|      [0.025      0.975]\n",
      "-----------------------------------------------------------------------------------\n",
      "const              -0.9622      0.798     -1.206      0.228      -2.526       0.602\n",
      "Age                -0.0636      0.019     -3.272      0.001      -0.102      -0.025\n",
      "Gender              3.9195      0.507      7.731      0.000       2.926       4.913\n",
      "Polyuria            3.6023      0.522      6.907      0.000       2.580       4.624\n",
      "Polydipsia          4.0042      0.556      7.198      0.000       2.914       5.094\n",
      "Polyphagia          1.0277      0.448      2.294      0.022       0.150       1.906\n",
      "Genital thrush      1.4017      0.466      3.009      0.003       0.489       2.315\n",
      "Irritability        2.3948      0.508      4.717      0.000       1.400       3.390\n",
      "delayed healing    -0.9657      0.425     -2.271      0.023      -1.799      -0.132\n",
      "partial paresis     1.2217      0.451      2.712      0.007       0.339       2.105\n",
      "===================================================================================\n",
      "\n",
      "Possibly complete quasi-separation: A fraction 0.12 of observations can be\n",
      "perfectly predicted. This might indicate that there is complete\n",
      "quasi-separation. In this case some parameters will not be identified.\n"
     ]
    },
    {
     "name": "stderr",
     "output_type": "stream",
     "text": [
      "/Users/alexyeo/Documents/temp/anaconda3/lib/python3.11/site-packages/statsmodels/base/optimizer.py:18: FutureWarning: Keyword arguments have been passed to the optimizer that have no effect. The list of allowed keyword arguments for method newton is: tol, ridge_factor. The list of unsupported keyword arguments passed include: max_iter. After release 0.14, this will raise.\n",
      "  warnings.warn(\n"
     ]
    }
   ],
   "source": [
    "logit_model = sm.Logit(y, X_3)\n",
    "result = logit_model.fit(max_iter=1000)\n",
    "\n",
    "# Summary of the model\n",
    "print(result.summary())"
   ]
  },
  {
   "cell_type": "code",
   "execution_count": null,
   "id": "51409bf7-8cce-475e-90a7-6739061debe8",
   "metadata": {},
   "outputs": [],
   "source": []
  }
 ],
 "metadata": {
  "kernelspec": {
   "display_name": "Python 3 (ipykernel)",
   "language": "python",
   "name": "python3"
  },
  "language_info": {
   "codemirror_mode": {
    "name": "ipython",
    "version": 3
   },
   "file_extension": ".py",
   "mimetype": "text/x-python",
   "name": "python",
   "nbconvert_exporter": "python",
   "pygments_lexer": "ipython3",
   "version": "3.11.7"
  }
 },
 "nbformat": 4,
 "nbformat_minor": 5
}
